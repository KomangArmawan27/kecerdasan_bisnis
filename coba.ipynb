{
 "cells": [
  {
   "cell_type": "code",
   "execution_count": 5,
   "id": "181b8ca1",
   "metadata": {},
   "outputs": [
    {
     "name": "stdout",
     "output_type": "stream",
     "text": [
      "True\n"
     ]
    }
   ],
   "source": [
    "nilai = 100"
   ]
  },
  {
   "cell_type": "code",
   "execution_count": 7,
   "id": "ef14c44b",
   "metadata": {},
   "outputs": [
    {
     "name": "stdout",
     "output_type": "stream",
     "text": [
      "lulus\n"
     ]
    }
   ],
   "source": [
    "if nilai >= 80 &&:\n",
    "    print('lulus')\n",
    "elif nilai <80:\n",
    "    print('remedi')\n",
    "else:\n",
    "    print('tidak dapat diidentifikasi')"
   ]
  }
 ],
 "metadata": {
  "kernelspec": {
   "display_name": "Python 3 (ipykernel)",
   "language": "python",
   "name": "python3"
  },
  "language_info": {
   "codemirror_mode": {
    "name": "ipython",
    "version": 3
   },
   "file_extension": ".py",
   "mimetype": "text/x-python",
   "name": "python",
   "nbconvert_exporter": "python",
   "pygments_lexer": "ipython3",
   "version": "3.10.7"
  }
 },
 "nbformat": 4,
 "nbformat_minor": 5
}
