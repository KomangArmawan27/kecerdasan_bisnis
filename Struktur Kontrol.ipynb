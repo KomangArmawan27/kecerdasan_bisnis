{
 "cells": [
  {
   "cell_type": "code",
   "execution_count": 14,
   "id": "2dfd2327",
   "metadata": {},
   "outputs": [],
   "source": [
    "x = [3, 4, 5, 6, 7, 8]"
   ]
  },
  {
   "cell_type": "code",
   "execution_count": 15,
   "id": "8af83fac",
   "metadata": {},
   "outputs": [
    {
     "data": {
      "text/plain": [
       "[0, 1, 2, 3, 4, 5, 6, 7, 8, 9]"
      ]
     },
     "execution_count": 15,
     "metadata": {},
     "output_type": "execute_result"
    }
   ],
   "source": [
    "# generate seuence\n",
    "list(range(10)) "
   ]
  },
  {
   "cell_type": "code",
   "execution_count": 16,
   "id": "0e38ea43",
   "metadata": {},
   "outputs": [
    {
     "data": {
      "text/plain": [
       "6"
      ]
     },
     "execution_count": 16,
     "metadata": {},
     "output_type": "execute_result"
    }
   ],
   "source": [
    "len(x) # melihat banyaknya item di variabel tertentu"
   ]
  },
  {
   "cell_type": "code",
   "execution_count": 51,
   "id": "c1353754",
   "metadata": {},
   "outputs": [
    {
     "name": "stdout",
     "output_type": "stream",
     "text": [
      "3\n",
      "4\n",
      "6\n",
      "7\n",
      "8\n"
     ]
    }
   ],
   "source": [
    "# 1. perulangan via index\n",
    "for k in range(len(x)):\n",
    "    print(x[k])"
   ]
  },
  {
   "cell_type": "code",
   "execution_count": 18,
   "id": "d9c6c7d4",
   "metadata": {},
   "outputs": [
    {
     "name": "stdout",
     "output_type": "stream",
     "text": [
      "3\n",
      "4\n",
      "5\n",
      "6\n",
      "7\n",
      "8\n"
     ]
    }
   ],
   "source": [
    "# 2. perulangan via item\n",
    "for k in x:\n",
    "    print(k)"
   ]
  },
  {
   "cell_type": "code",
   "execution_count": 24,
   "id": "d7dc57fb",
   "metadata": {},
   "outputs": [
    {
     "data": {
      "text/plain": [
       "[3, 4, 5, 6, 7, 8]"
      ]
     },
     "execution_count": 24,
     "metadata": {},
     "output_type": "execute_result"
    }
   ],
   "source": [
    "# 3. perulangan komperhensif\n",
    "[k for k in x]"
   ]
  },
  {
   "cell_type": "markdown",
   "id": "239104db",
   "metadata": {},
   "source": [
    "# IF + FOR"
   ]
  },
  {
   "cell_type": "code",
   "execution_count": 21,
   "id": "0b68fb1b",
   "metadata": {},
   "outputs": [
    {
     "name": "stdout",
     "output_type": "stream",
     "text": [
      "5\n",
      "6\n",
      "7\n",
      "8\n"
     ]
    }
   ],
   "source": [
    "# memunculkan nilai yang >= 5\n",
    "# 1. via index\n",
    "for k in range(len(x)):\n",
    "    if x[k] >= 5:\n",
    "        print(x[k])"
   ]
  },
  {
   "cell_type": "code",
   "execution_count": 23,
   "id": "5709ad46",
   "metadata": {},
   "outputs": [
    {
     "name": "stdout",
     "output_type": "stream",
     "text": [
      "5\n",
      "6\n",
      "7\n",
      "8\n"
     ]
    }
   ],
   "source": [
    "# memunculkan nilai yang >= 5\n",
    "# 2. via item\n",
    "for k in x:\n",
    "    if k >=5:\n",
    "        print(k)"
   ]
  },
  {
   "cell_type": "code",
   "execution_count": 31,
   "id": "677539e9",
   "metadata": {},
   "outputs": [
    {
     "data": {
      "text/plain": [
       "[5, 6, 7, 8]"
      ]
     },
     "execution_count": 31,
     "metadata": {},
     "output_type": "execute_result"
    }
   ],
   "source": [
    "# memunculkan nilai yang >= 5\n",
    "# 2. via komperhensif\n",
    "[k for k in x if k>=5]"
   ]
  },
  {
   "cell_type": "code",
   "execution_count": 40,
   "id": "83b195f3",
   "metadata": {},
   "outputs": [],
   "source": [
    "team = ['Barcelona', 'Liverpool', 'Milan', 'Roma', 'Benfica']"
   ]
  },
  {
   "cell_type": "code",
   "execution_count": 41,
   "id": "c4be3683",
   "metadata": {},
   "outputs": [
    {
     "data": {
      "text/plain": [
       "['Milan', 'Roma', 'Benfica']"
      ]
     },
     "execution_count": 41,
     "metadata": {},
     "output_type": "execute_result"
    }
   ],
   "source": [
    "# memunculkan team yang panjang karakternya <=7\n",
    "# via list comperhension\n",
    "[k for k in team if len(k)<=7]"
   ]
  },
  {
   "cell_type": "code",
   "execution_count": 42,
   "id": "b52786a3",
   "metadata": {},
   "outputs": [
    {
     "name": "stdout",
     "output_type": "stream",
     "text": [
      "Milan\n",
      "Roma\n",
      "Benfica\n"
     ]
    }
   ],
   "source": [
    "# memunculkan team yang panjang karakternya <=7\n",
    "# via list item\n",
    "for k in team:\n",
    "    if len(k) <=7:\n",
    "        print(k)"
   ]
  },
  {
   "cell_type": "code",
   "execution_count": 46,
   "id": "bc22f3ee",
   "metadata": {},
   "outputs": [],
   "source": [
    "# munculkan bilangan kuadrat\n",
    "x = [3, 4, 6, 7, 8] # ekspetasinya : [9, 16, 36, 49, 64]"
   ]
  },
  {
   "cell_type": "code",
   "execution_count": 47,
   "id": "39300b41",
   "metadata": {},
   "outputs": [
    {
     "data": {
      "text/plain": [
       "[9, 16, 36, 49, 64]"
      ]
     },
     "execution_count": 47,
     "metadata": {},
     "output_type": "execute_result"
    }
   ],
   "source": [
    "# via komperhensif\n",
    "[k*k for k in x]"
   ]
  },
  {
   "cell_type": "code",
   "execution_count": 48,
   "id": "96c94acc",
   "metadata": {},
   "outputs": [
    {
     "name": "stdout",
     "output_type": "stream",
     "text": [
      "9\n",
      "16\n",
      "36\n",
      "49\n",
      "64\n"
     ]
    }
   ],
   "source": [
    "# via list item\n",
    "for k in x:\n",
    "    print(k*k)"
   ]
  },
  {
   "cell_type": "code",
   "execution_count": 50,
   "id": "19757ac6",
   "metadata": {},
   "outputs": [
    {
     "name": "stdout",
     "output_type": "stream",
     "text": [
      "9\n",
      "16\n",
      "36\n",
      "49\n",
      "64\n"
     ]
    }
   ],
   "source": [
    "for k in range(len(x)):\n",
    "    print(x[k]*x[k])"
   ]
  }
 ],
 "metadata": {
  "kernelspec": {
   "display_name": "Python 3 (ipykernel)",
   "language": "python",
   "name": "python3"
  },
  "language_info": {
   "codemirror_mode": {
    "name": "ipython",
    "version": 3
   },
   "file_extension": ".py",
   "mimetype": "text/x-python",
   "name": "python",
   "nbconvert_exporter": "python",
   "pygments_lexer": "ipython3",
   "version": "3.10.7"
  }
 },
 "nbformat": 4,
 "nbformat_minor": 5
}
